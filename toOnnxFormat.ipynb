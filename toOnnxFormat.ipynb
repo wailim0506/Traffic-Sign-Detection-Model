{
 "cells": [
  {
   "cell_type": "markdown",
   "metadata": {},
   "source": [
    "# For the use in webpage"
   ]
  },
  {
   "cell_type": "code",
   "execution_count": 1,
   "metadata": {},
   "outputs": [
    {
     "name": "stderr",
     "output_type": "stream",
     "text": [
      "/Library/Python/3.9/site-packages/urllib3/__init__.py:35: NotOpenSSLWarning: urllib3 v2 only supports OpenSSL 1.1.1+, currently the 'ssl' module is compiled with 'LibreSSL 2.8.3'. See: https://github.com/urllib3/urllib3/issues/3020\n",
      "  warnings.warn(\n"
     ]
    },
    {
     "name": "stdout",
     "output_type": "stream",
     "text": [
      "Ultralytics 8.3.28 🚀 Python-3.9.6 torch-2.5.1 CPU (Apple M3 Pro)\n",
      "Model summary (fused): 168 layers, 3,006,428 parameters, 0 gradients, 8.1 GFLOPs\n",
      "\n",
      "\u001b[34m\u001b[1mPyTorch:\u001b[0m starting from '/Users/wailim0506/Desktop/yolov8Batch32/trainedModel.pt' with input shape (1, 3, 640, 640) BCHW and output shape(s) (1, 8, 8400) (6.0 MB)\n",
      "\u001b[31m\u001b[1mrequirements:\u001b[0m Ultralytics requirement ['onnxslim'] not found, attempting AutoUpdate...\n",
      "Defaulting to user installation because normal site-packages is not writeable\n",
      "Collecting onnxslim\n",
      "  Downloading onnxslim-0.1.39-py3-none-any.whl.metadata (2.9 kB)\n",
      "Requirement already satisfied: onnx in /Users/wailim0506/Library/Python/3.9/lib/python/site-packages (from onnxslim) (1.17.0)\n",
      "Requirement already satisfied: sympy in /Library/Python/3.9/site-packages (from onnxslim) (1.13.1)\n",
      "Requirement already satisfied: packaging in /Library/Python/3.9/site-packages (from onnxslim) (24.2)\n",
      "Requirement already satisfied: numpy>=1.20 in /Library/Python/3.9/site-packages (from onnx->onnxslim) (1.23.2)\n",
      "Requirement already satisfied: protobuf>=3.20.2 in /Users/wailim0506/Library/Python/3.9/lib/python/site-packages (from onnx->onnxslim) (5.28.3)\n",
      "Requirement already satisfied: mpmath<1.4,>=1.1.0 in /Library/Python/3.9/site-packages (from sympy->onnxslim) (1.3.0)\n",
      "Downloading onnxslim-0.1.39-py3-none-any.whl (141 kB)\n",
      "Installing collected packages: onnxslim\n",
      "Successfully installed onnxslim-0.1.39\n",
      "\n",
      "\u001b[31m\u001b[1mrequirements:\u001b[0m AutoUpdate success ✅ 1.0s, installed 1 package: ['onnxslim']\n",
      "\u001b[31m\u001b[1mrequirements:\u001b[0m ⚠️ \u001b[1mRestart runtime or rerun command for updates to take effect\u001b[0m\n",
      "\n",
      "\n",
      "\u001b[34m\u001b[1mONNX:\u001b[0m starting export with onnx 1.17.0 opset 19...\n",
      "\u001b[34m\u001b[1mONNX:\u001b[0m slimming with onnxslim 0.1.39...\n",
      "\u001b[34m\u001b[1mONNX:\u001b[0m export success ✅ 2.8s, saved as '/Users/wailim0506/Desktop/yolov8Batch32/trainedModel.onnx' (11.7 MB)\n",
      "\n",
      "Export complete (3.0s)\n",
      "Results saved to \u001b[1m/Users/wailim0506/Desktop/yolov8Batch32\u001b[0m\n",
      "Predict:         yolo predict task=detect model=/Users/wailim0506/Desktop/yolov8Batch32/trainedModel.onnx imgsz=640  \n",
      "Validate:        yolo val task=detect model=/Users/wailim0506/Desktop/yolov8Batch32/trainedModel.onnx imgsz=640 data=coco.yaml  \n",
      "Visualize:       https://netron.app\n"
     ]
    },
    {
     "data": {
      "text/plain": [
       "'/Users/wailim0506/Desktop/yolov8Batch32/trainedModel.onnx'"
      ]
     },
     "execution_count": 1,
     "metadata": {},
     "output_type": "execute_result"
    }
   ],
   "source": [
    "from ultralytics import YOLO\n",
    "\n",
    "# Load your custom trained model\n",
    "model = YOLO('/Users/wailim0506/Desktop/yolov8Batch32/trainedModel.pt')\n",
    "\n",
    "# Export the model to ONNX format\n",
    "model.export(format='onnx')"
   ]
  }
 ],
 "metadata": {
  "kernelspec": {
   "display_name": "Python 3",
   "language": "python",
   "name": "python3"
  },
  "language_info": {
   "codemirror_mode": {
    "name": "ipython",
    "version": 3
   },
   "file_extension": ".py",
   "mimetype": "text/x-python",
   "name": "python",
   "nbconvert_exporter": "python",
   "pygments_lexer": "ipython3",
   "version": "3.9.6"
  }
 },
 "nbformat": 4,
 "nbformat_minor": 2
}
